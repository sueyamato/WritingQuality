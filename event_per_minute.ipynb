{
 "cells": [
  {
   "cell_type": "code",
   "execution_count": null,
   "metadata": {},
   "outputs": [],
   "source": [
    "def event_per_minute(df):\n",
    "    df['minute'] = df['down_time'].apply(lambda x: math.floor(x/60/1000))\n",
    "    event_times = df.groupby(['id', 'minute'])['event_id'].agg(lambda x: x.max() - x.min()).reset_index()#max() - df.groupby['id', 'minute']['event_id'].min()\n",
    "    df = df.merge(event_times, on=['id', 'minute'], suffixes=('', '_times'))\n",
    "    return df"
   ]
  }
 ],
 "metadata": {
  "language_info": {
   "name": "python"
  }
 },
 "nbformat": 4,
 "nbformat_minor": 2
}
